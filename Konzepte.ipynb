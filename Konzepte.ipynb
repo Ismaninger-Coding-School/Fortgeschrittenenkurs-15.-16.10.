{
 "cells": [
  {
   "cell_type": "markdown",
   "metadata": {},
   "source": [
    "# Python Konzepte"
   ]
  },
  {
   "cell_type": "markdown",
   "metadata": {},
   "source": [
    "## Listen"
   ]
  },
  {
   "cell_type": "markdown",
   "metadata": {},
   "source": [
    "Möchte man mehrere Daten an einem Ort sammeln, nutzt man dafür `Listen`. Solche Listen speichert man in Variablen, genau wie Zahlen oder Wörter. Man erstellt solche Listen, in dem man die Einträge, durch ein Komma getrennt, zwischen zwei eckige Klammern `[]` schreibt.\n",
    "\n",
    "Beispiele:"
   ]
  },
  {
   "cell_type": "code",
   "execution_count": null,
   "metadata": {},
   "outputs": [],
   "source": [
    "einkaufsliste = [\"Müsli\", \"Schokolade\", \"Erdbeeren\"]\n",
    "\n",
    "zahlen = [0,1,2,3,4,5,6,7,8,9]\n",
    "\n",
    "print(einkaufsliste)"
   ]
  },
  {
   "cell_type": "markdown",
   "metadata": {},
   "source": [
    "Die Listeneinträge können auch unterschiedliche `Datentypen` haben:"
   ]
  },
  {
   "cell_type": "code",
   "execution_count": null,
   "metadata": {},
   "outputs": [],
   "source": [
    "gemischte_liste = [\"hallo\", 7, True, zahlen]"
   ]
  },
  {
   "cell_type": "markdown",
   "metadata": {},
   "source": [
    "Was ist die Ausgabe, der folgenden Zelle?"
   ]
  },
  {
   "cell_type": "code",
   "execution_count": null,
   "metadata": {},
   "outputs": [],
   "source": [
    "print(gemischte_liste)"
   ]
  },
  {
   "cell_type": "markdown",
   "metadata": {},
   "source": [
    "### Was kann man mit Listen so machen?\n",
    "\n",
    "Es ist möglich auf die einzelnen Einträge der Liste zuzugreifen mit dem Befehl `list[k]`, wobei für `list` der Name der Liste eingesetzt werden muss und `k` die Position in der Liste ist.\n",
    "\n",
    "#### Wichtig:\n",
    "In der Informatik und in fast jeder Programmiersprache fängt man beim Zählen nicht mit 1 sondern mit 0 an. Möchte man also auf das ERSTE Element in der Liste zugreifen, schreibt man `list[0]` statt `list[1]`. Möchte man auf das zweite Element zugreifen, schreibt man `list[1]`, und so weiter. \n",
    "\n",
    "\n",
    "\n",
    "Nun erst mal ein paar Beispiele:"
   ]
  },
  {
   "cell_type": "code",
   "execution_count": null,
   "metadata": {},
   "outputs": [],
   "source": [
    "einkaufsliste = [\"Müsli\", \"Schokolade\", \"Erdbeeren\"]\n",
    "\n",
    "print(einkaufsliste[1])"
   ]
  },
  {
   "cell_type": "markdown",
   "metadata": {},
   "source": [
    "Was passiert, wenn wir folgendes versuchen?"
   ]
  },
  {
   "cell_type": "code",
   "execution_count": null,
   "metadata": {},
   "outputs": [],
   "source": [
    "print(einkaufsliste[3])"
   ]
  },
  {
   "cell_type": "code",
   "execution_count": null,
   "metadata": {},
   "outputs": [],
   "source": [
    "zahlen = [0,1,2,3,4,5,6,7,8,9]\n",
    "\n",
    "print(zahlen[8])"
   ]
  },
  {
   "cell_type": "markdown",
   "metadata": {},
   "source": [
    "Wir können mit diesem Konzept auch Einträge in einer Liste ändern:"
   ]
  },
  {
   "cell_type": "code",
   "execution_count": null,
   "metadata": {},
   "outputs": [],
   "source": [
    "einkaufsliste = [\"Müsli\", \"Schokolade\", \"Erdbeeren\"]\n",
    "\n",
    "einkaufsliste[0] = \"Haferflocken\"\n",
    "\n",
    "print(einkaufsliste)"
   ]
  },
  {
   "cell_type": "markdown",
   "metadata": {},
   "source": [
    "Außerdem können wir Listen vergrößern. Der Befehl `list.append(x)`, hängt `x` an die Liste `list` dran.\n",
    "\n",
    "Beispiel:"
   ]
  },
  {
   "cell_type": "code",
   "execution_count": null,
   "metadata": {},
   "outputs": [],
   "source": [
    "einkaufsliste = [\"Müsli\", \"Schokolade\", \"Erdbeeren\"]\n",
    "\n",
    "einkaufsliste.append(\"Äpfel\")\n",
    "\n",
    "print(einkaufsliste)"
   ]
  },
  {
   "cell_type": "markdown",
   "metadata": {},
   "source": [
    "Der Befehl `len(list)` gibt uns an, wie viele Elemente in einer Liste sind.\n",
    "\n",
    "Beispiel:"
   ]
  },
  {
   "cell_type": "code",
   "execution_count": null,
   "metadata": {},
   "outputs": [],
   "source": [
    "einkaufsliste = [\"Müsli\", \"Schokolade\", \"Erdbeeren\"]\n",
    "print(len(einkaufsliste))\n",
    "\n",
    "einkaufsliste.append(\"Äpfel\")\n",
    "print(len(einkaufsliste))"
   ]
  },
  {
   "cell_type": "markdown",
   "metadata": {},
   "source": [
    "Wir beschränken uns jetzt erst mal auf die gerade kennengelernten Befehle, aber es gibt noch ganz viele weitere tolle Sachen, die man mit Listen machen kann!"
   ]
  },
  {
   "cell_type": "markdown",
   "metadata": {},
   "source": [
    "#### Übung"
   ]
  },
  {
   "cell_type": "markdown",
   "metadata": {},
   "source": [
    "Erstelle eine Liste `Lieblingstiere` mit deinen vier Lieblingstieren. Gib das zweite Tier in deiner Liste mithilfe von `print()` aus. Ersetze dann das vierte Tier in deiner Liste mit dem Wort \"Pinguin\". "
   ]
  },
  {
   "cell_type": "code",
   "execution_count": null,
   "metadata": {},
   "outputs": [],
   "source": []
  },
  {
   "cell_type": "markdown",
   "metadata": {},
   "source": [
    "## Dictionaries"
   ]
  },
  {
   "cell_type": "markdown",
   "metadata": {},
   "source": [
    "Manchmal wollen wir unsere Daten nicht einfach in Listen hintereinander abspeichern, sondern noch mehr mit ihnen machen. `Dictionaries` (auf Deutsch `Wörterbücher`) werden ebenfalls dafür genutzt, mehrere Daten an einem Ort zu speichern, aber die Einträge bestehen nun im Gegensatz zu Listen nicht nur aus einer Zahl oder einem Wort, sondern aus Paaren: `Schlüssel:Wert`."
   ]
  },
  {
   "cell_type": "markdown",
   "metadata": {},
   "source": [
    "Wollen wir beispielsweise ein Telefonbuch erstellen, bringt es uns nichts, nur die Nummern in einer Liste abzuspeichern, sondern wir müssen natürlich auch wissen, wem die Nummer gehört. Man hat also ein Paar `Name:Telefonnummer` und kann so eindeutig zuordnen, wem welche Telefonnummer gehört."
   ]
  },
  {
   "cell_type": "markdown",
   "metadata": {},
   "source": [
    "Dictionaries erstellt man, in dem man die Paare, durch ein Komma getrennt, zwischen zwei geschweifte Klammern `{}` schreibt. \n",
    "\n",
    "Beispiele:"
   ]
  },
  {
   "cell_type": "code",
   "execution_count": null,
   "metadata": {},
   "outputs": [],
   "source": [
    "telefonbuch = {\"Inken\": 1777837, \"Martin\": 242348283, \"Vroni\": 93382034}\n",
    "\n",
    "steckbrief = {\"Name\":\"Inken\",\n",
    "              \"Alter\":24, \n",
    "              \"Verheiratet\":False}"
   ]
  },
  {
   "cell_type": "markdown",
   "metadata": {},
   "source": [
    "#### Wichtig:\n",
    "\n",
    "Die Schlüssel müssen unterscheidbar sein! Man kann nicht zwei mal den gleichen Schlüssel für unterschiedliche Werte verwenden."
   ]
  },
  {
   "cell_type": "code",
   "execution_count": null,
   "metadata": {},
   "outputs": [],
   "source": [
    "steckbrief = {\"Name\":\"Inken\",\n",
    "              \"Name\":\"Lara\", \n",
    "              \"Alter\":24, \n",
    "              \"Verheiratet\":False}\n",
    "\n",
    "print(steckbrief)"
   ]
  },
  {
   "cell_type": "markdown",
   "metadata": {},
   "source": [
    "Natürlich können wir auch Listen als Elemente verwenden:"
   ]
  },
  {
   "cell_type": "code",
   "execution_count": null,
   "metadata": {},
   "outputs": [],
   "source": [
    "freunde = {\"Inken\": [\"Martin\", \"Vroni\"], \"Martin\": [\"Inken\", \"Vroni\"], \"Vroni\": [\"Martin\", \"Inken\"]}"
   ]
  },
  {
   "cell_type": "markdown",
   "metadata": {},
   "source": [
    "Zurück zu unserem Telefonbuch. Möchte ich jetzt die Nummer von Inken herausfinden, dann kann ich das folgendermaßen tun:"
   ]
  },
  {
   "cell_type": "code",
   "execution_count": null,
   "metadata": {},
   "outputs": [],
   "source": [
    "print(telefonbuch[\"Inken\"])"
   ]
  },
  {
   "cell_type": "markdown",
   "metadata": {},
   "source": [
    "Wir benutzen also wie bei Listen eckige Klammern, aber geben nicht die Postition, sondern den Schlüssel an. \n",
    "\n",
    "Weiteres Besipiel:"
   ]
  },
  {
   "cell_type": "code",
   "execution_count": null,
   "metadata": {},
   "outputs": [],
   "source": [
    "print(\"Martins Freunde sind\",freunde[\"Martin\"])"
   ]
  },
  {
   "cell_type": "markdown",
   "metadata": {},
   "source": [
    "Möchten wir aus irgendeinem Grund doch die Schlüssel als Liste haben, können wir das mit dem Befehl `dictionary.keys()` machen:"
   ]
  },
  {
   "cell_type": "code",
   "execution_count": null,
   "metadata": {},
   "outputs": [],
   "source": [
    "telefonbuch = {\"Inken\": 1777837, \"Martin\": 242348283, \"Vroni\": 93382034}\n",
    "\n",
    "print(telefonbuch.keys())"
   ]
  },
  {
   "cell_type": "markdown",
   "metadata": {},
   "source": [
    "#### Übung:\n",
    "\n",
    "Erinnerst du dich an die Liste `Lieblingstiere`, die du erstellt hast? Nutze in dieser Aufgabe die Tiere als Schlüssel in einem dictionary. Speichere für jedes Tier ab, von welchem Kontinent es kommt. Gib am Ende den Satz aus. \"... leben auf dem Kontinent ...\", wobei ihr für ... natürlich die Tiere und den Kontinent einsetzen sollt. "
   ]
  },
  {
   "cell_type": "code",
   "execution_count": null,
   "metadata": {},
   "outputs": [],
   "source": []
  },
  {
   "cell_type": "markdown",
   "metadata": {},
   "source": [
    "## For-Schleifen"
   ]
  },
  {
   "cell_type": "markdown",
   "metadata": {},
   "source": [
    "Im letzten Kurs habt ihr schon while-Schleifen kennengelernt. For-Schleifen funktionieren ganz ähnlich und werden ebenfalls verwendet, um den gleichen Code mehrmals auszuführen. Sie sind sehr praktisch, wenn man beispielsweise durch alle Elemente einer Liste gehen möchte.\n",
    "\n",
    "Beispiel:"
   ]
  },
  {
   "cell_type": "code",
   "execution_count": null,
   "metadata": {},
   "outputs": [],
   "source": [
    "einkaufsliste = [\"Müsli\", \"Schokolade\", \"Erdbeeren\"]\n",
    "\n",
    "for i in einkaufsliste:\n",
    "    print(i)"
   ]
  },
  {
   "cell_type": "markdown",
   "metadata": {},
   "source": [
    "Im obigen Beispiel gehen wir durch die Liste `einkaufsliste`. Da die Liste die Länge drei hat, wird der Code in der Schleife drei mal ausgeführt. Das `i` nimmt immer den Wert des Listenelements des jeweiligen Durchgangs an. Im ersten Durchgang steht in `i` also \"Müsli\", im zweiten Durchgang \"Schokolade\", und so weiter. Man kann außer i auch jeden anderen Variablennamen nehmen."
   ]
  },
  {
   "cell_type": "markdown",
   "metadata": {},
   "source": [
    "Wir können mit for-Schleifen auch durch dictionaries gehen. "
   ]
  },
  {
   "cell_type": "code",
   "execution_count": null,
   "metadata": {},
   "outputs": [],
   "source": [
    "telefonbuch = {\"Inken\": 1777837, \"Martin\": 242348283, \"Vroni\": 93382034}\n",
    "\n",
    "for s in telefonbuch:\n",
    "    print(s)\n",
    "    print(telefonbuch[s])"
   ]
  },
  {
   "cell_type": "markdown",
   "metadata": {},
   "source": [
    "Wie man sehen kann, steht in s immer der Schlüssel des Paares. Um auf den Wert des Schlüssels zugreifen zu können, müssen wir `telefonbuch[s]` schreiben.\n",
    "\n",
    "Weiteres Beispiel:"
   ]
  },
  {
   "cell_type": "code",
   "execution_count": null,
   "metadata": {},
   "outputs": [],
   "source": [
    "freunde = {\"Inken\": [\"Martin\", \"Vroni\"], \"Martin\": [\"Inken\", \"Vroni\"], \"Vroni\": [\"Martin\", \"Inken\"]}\n",
    "\n",
    "for schluessel in freunde:\n",
    "    print(schluessel, \"hat die Freunde\", freunde[schluessel])"
   ]
  },
  {
   "cell_type": "markdown",
   "metadata": {},
   "source": [
    "#### Übung 1"
   ]
  },
  {
   "cell_type": "markdown",
   "metadata": {},
   "source": [
    "In der letzten Übung hast du ein dictionary mit Tieren und Kontinenten erstellt. Gehe nun mit einer for-Schleife über das dictionary und gib für jedes Paar in deinem dictionary \"... leben auf dem Kontinent ...\" aus."
   ]
  },
  {
   "cell_type": "code",
   "execution_count": null,
   "metadata": {},
   "outputs": [],
   "source": []
  },
  {
   "cell_type": "markdown",
   "metadata": {},
   "source": [
    "#### Übung 2"
   ]
  },
  {
   "cell_type": "markdown",
   "metadata": {},
   "source": [
    "Erstelle eine Liste mit den Zahlen 0 bis 9. Erstelle eine zweite leere Liste. Die Namen für die Listen darfst du dir frei aussuchen. Gehe dann mit einer for-Schleife über die erste Liste. Addiere zu jedem Eintrag eine 1 und hänge das Ergebnis an die zweite Liste an. Vor deinem Code sollten die Listen also so aussehen: `[0,1,2,3,4,5,6,7,8,9], []` und danach so: `[0,1,2,3,4,5,6,7,8,9], [1,2,3,4,5,6,7,8,9,10]`. Die erste Liste soll sich also nicht verändern und die zweite wird mit 10 Einträgen gefüllt:"
   ]
  },
  {
   "cell_type": "code",
   "execution_count": null,
   "metadata": {},
   "outputs": [],
   "source": []
  },
  {
   "cell_type": "markdown",
   "metadata": {},
   "source": [
    "## Funktionen"
   ]
  },
  {
   "cell_type": "markdown",
   "metadata": {},
   "source": [
    "Bisher haben wir unseren Code immer von oben nach unten geschrieben und in der Reihenfolge wurde dieser dann auch ausgeführt. Wenn wir einen Teil unseren Codes noch einmal verwenden wollten, mussten wir alles kopieren und unten anfügen. `Funktionen` sind eine Möglichkeit, wie man Code, der eine bestimmte Sache macht, die man mehrmals in seinem Programm braucht, wieder und wieder verwenden kann, ohne dass man ihn kopieren muss.\n"
   ]
  },
  {
   "cell_type": "markdown",
   "metadata": {},
   "source": [
    "Beispiel:\n",
    "\n",
    "Wir wollen ein Programm schreiben, das den Nutzer auffordert, verschiedene Daten über sich anzugeben und nach jeder Nutzerantwort, wollen wir uns mit \"Vielen Dank für die Eingabe\" bedanken. Ohne Funktionen würde das ganze so aussehen:"
   ]
  },
  {
   "cell_type": "code",
   "execution_count": null,
   "metadata": {},
   "outputs": [],
   "source": [
    "input(\"Bitte Namen angeben:\")\n",
    "\n",
    "print(\"Vielen Dank für die Eingabe\")\n",
    "\n",
    "input(\"Bitte Alter angeben:\")\n",
    "\n",
    "print(\"Vielen Dank für die Eingabe\")\n",
    "\n",
    "input(\"Bitte Geschlecht angeben:\")\n",
    "\n",
    "print(\"Vielen Dank für die Eingabe\")"
   ]
  },
  {
   "cell_type": "markdown",
   "metadata": {},
   "source": [
    "Da man den Befehl `print(\"Vielen Dank für die Eingabe\")` mehrmals verwendet, bietet es sich an, eine Funktion für diesen Teil des Codes zu schreiben. Das ganze sieht folgendermaßen aus:"
   ]
  },
  {
   "cell_type": "code",
   "execution_count": null,
   "metadata": {},
   "outputs": [],
   "source": [
    "def danke():\n",
    "    print(\"Vielen Dank für die Eingabe\")\n",
    "    \n",
    "input(\"Bitte Namen angeben:\")\n",
    "\n",
    "danke()\n",
    "\n",
    "input(\"Bitte Alter angeben:\")\n",
    "\n",
    "danke()\n",
    "\n",
    "input(\"Bitte Geschlecht angeben:\")\n",
    "\n",
    "danke()"
   ]
  },
  {
   "cell_type": "markdown",
   "metadata": {},
   "source": [
    "In dem Beispiel spart man sich natürlich nicht wahnsinnig viel Schreibarbeit, aber jetzt stellt euch vor, wir müssten die Funktion noch viel häufiger aufrufen, oder der Code innerhalb der Funktion ist noch länger, dann können Funktionen sehr viel Arbeit sparen.\n",
    "\n",
    "Wie in dem Beispiel schon zu sehen ist, erstellt man eine Funktion, indem man `def Funktionsname():` schreibt und den zu der Funktion gehörenden Code eingerückt darunter schreibt. Wie bei Variablen, kann man sich den Funktionsnamen frei aussuchen. Möchte man den Code in der Funktion dann später in seinem Programm verwenden, muss man einfach nur `Funktionsname()`schreiben und der Code in der Funktion wird an der Stelle ausgeführt."
   ]
  },
  {
   "cell_type": "markdown",
   "metadata": {},
   "source": [
    "Funktionen können sogar noch mehr als das! Stellt euch vor, wir wollen unser Programm jetzt so ändern, dass wir uns persönlich bei dem Nutzer des Programms bedanken. Da natürlich jeder Nutzer des Programms anders heißt, müssen wir irgendwie in der Lage sein, unserer Funktion den Namen des Nutzers mitzuteilen. Das ist in Python ganz einfach, da Funktionen in der Lage sind, `Parameter` entgegenzunehmen:"
   ]
  },
  {
   "cell_type": "code",
   "execution_count": null,
   "metadata": {},
   "outputs": [],
   "source": [
    "def danke(name):\n",
    "    print(\"Vielen Dank für die Eingabe\", name)\n",
    "    \n",
    "x = input(\"Bitte Namen angeben:\")\n",
    "\n",
    "danke(x)\n",
    "\n",
    "input(\"Bitte Alter angeben:\")\n",
    "\n",
    "danke(x)\n",
    "\n",
    "input(\"Bitte Geschlecht angeben:\")\n",
    "\n",
    "danke(x)"
   ]
  },
  {
   "cell_type": "markdown",
   "metadata": {},
   "source": [
    "Den Namen unseres Parameters können wir uns wieder frei wählen und wir schreiben ihn in die Klammern hinter den Funktionsnamen. Welchen Wert dieser Parameter hat, wird bei dem Aufruf von der Funktion festgelegt. In dem Beispiel speichern wir den Namen in der Variable x und übergeben diese dann an die Funktion."
   ]
  },
  {
   "cell_type": "markdown",
   "metadata": {},
   "source": [
    "Weitere Beispiele für Funktionen:"
   ]
  },
  {
   "cell_type": "code",
   "execution_count": null,
   "metadata": {},
   "outputs": [],
   "source": [
    "def quadrat(x):\n",
    "    print(x*x)\n",
    "    \n",
    "    \n",
    "    \n",
    "quadrat(2)\n",
    "quadrat(10)\n",
    "quadrat(535)"
   ]
  },
  {
   "cell_type": "markdown",
   "metadata": {},
   "source": [
    "#### Übung:\n",
    "\n",
    "Schreibe eine Funktion, die einen Parameter als Eingabe entgegen nimmt. Die Funktion soll den Eingabeparameter mit 3 multiplizieren und das Ergebnis ausgeben. Erstelle dann eine Liste mit den Zahlen 0 bis 9. Gehe mit einer for-Schleife über die Liste und multipliziere jedes Eintrag der Liste mithilfe deiner Funktion mit 3:"
   ]
  },
  {
   "cell_type": "code",
   "execution_count": null,
   "metadata": {},
   "outputs": [],
   "source": []
  },
  {
   "cell_type": "markdown",
   "metadata": {},
   "source": [
    "# Spiel: Lustige-Sätze-Generator"
   ]
  },
  {
   "cell_type": "markdown",
   "metadata": {},
   "source": [
    "Jetzt ist es an der Zeit, alles, was wir bisher gelernt haben, anzuwenden und ein kleines Spiel zu programmieren!\n",
    "\n",
    "Befolge diese Schritte, um einen interaktiven Generator für lustige Zufallssätze zu bauen:\n",
    "\n",
    "1. Importiere die Bibliothek `random`.\n",
    "2. Erstelle eine Liste für jeden Satzteil (im Beispiel werden die Satzteile \"wer?\", \"macht was?\", \"wie?\" und \"warum?\" verwendet, Du kannst aber auch andere benutzen).\n",
    "3. Mache aus den Listen ein Dictionary mit den Satzteil-Fragen als Schlüssel und den Listen, die du zuvor erstellt hast, als Wert.\n",
    "4. Programmiere die Grund-Funktion für das Spiel (das ist die Funktion, die aus jeder Satzteil-Liste ein Element zufällig auswählt und die ausgewählten Wörter als Satz ausgibt). **Tipp 1**: schreibe eine Funktion, die das Dictionary aus Schritt 3 als Eingabe-Parameter verwendet. Diese Funktion soll mit einer Schleife über alle Satzteile aus dem Dictionary gehen und aus jeder der Satzteil-Listen ein Element zufällig auswählen. **Tipp 2**: um zwischen mehreren Wörtern, die man über zwei getrennte `print()`-Aufrufe anzeigen lässt, keine neue Zeile, sondern ein Leerzeichen zu schreiben, kann man den Parameter `end=' '` verwenden. Beispiel:"
   ]
  },
  {
   "cell_type": "code",
   "execution_count": null,
   "metadata": {},
   "outputs": [],
   "source": [
    "print(\"Wort 1\", end=' ')\n",
    "print(\"Wort 2\")"
   ]
  },
  {
   "cell_type": "markdown",
   "metadata": {},
   "source": [
    "5. Mache das Spiel interaktiv durch eine Abfrage, ob man noch eine weitere Runde spielen möchte! Du kannst dafür zum Beispiel eine `while`-Schleife verwenden.\n",
    "6. Erweitere das Spiel, indem Du den Spieler während des Spiels neue Wörter hinzufügen lässt."
   ]
  }
 ],
 "metadata": {
  "kernelspec": {
   "display_name": "Python 3",
   "language": "python",
   "name": "python3"
  },
  "language_info": {
   "codemirror_mode": {
    "name": "ipython",
    "version": 3
   },
   "file_extension": ".py",
   "mimetype": "text/x-python",
   "name": "python",
   "nbconvert_exporter": "python",
   "pygments_lexer": "ipython3",
   "version": "3.8.5"
  }
 },
 "nbformat": 4,
 "nbformat_minor": 5
}
