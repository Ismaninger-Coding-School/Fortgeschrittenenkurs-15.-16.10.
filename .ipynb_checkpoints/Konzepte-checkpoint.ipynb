{
 "cells": [
  {
   "cell_type": "markdown",
   "id": "9ea83e26",
   "metadata": {},
   "source": [
    "# Python Konzepte"
   ]
  },
  {
   "cell_type": "markdown",
   "id": "a3456caf",
   "metadata": {},
   "source": [
    "## Listen"
   ]
  },
  {
   "cell_type": "markdown",
   "id": "299ec32a",
   "metadata": {},
   "source": [
    "Möchte man mehrere Daten an einem Ort sammeln, nutzt man dafür `Listen`. Solche Listen speichert man in Variablen, genau wie Zahlen oder Wörter. Man erstellt solche Listen, in dem man die Einträge, durch ein Komma getrennt, zwischen zwei eckige Klammern `[]` schreibt.\n",
    "\n",
    "Beispiele:"
   ]
  },
  {
   "cell_type": "code",
   "execution_count": null,
   "id": "76573fbc",
   "metadata": {},
   "outputs": [],
   "source": [
    "einkaufsliste = [\"Müsli\", \"Schokolade\", \"Erdbeeren\"]\n",
    "\n",
    "zahlen = [0,1,2,3,4,5,6,7,8,9]\n",
    "\n",
    "print(einkaufsliste)"
   ]
  },
  {
   "cell_type": "markdown",
   "id": "33de1dec",
   "metadata": {},
   "source": [
    "Die Listeneinträge können auch unterschiedliche `Datentypen` haben:"
   ]
  },
  {
   "cell_type": "code",
   "execution_count": null,
   "id": "01940bb7",
   "metadata": {},
   "outputs": [],
   "source": [
    "gemischte_liste = [\"hallo\", 7, True, zahlen]"
   ]
  },
  {
   "cell_type": "markdown",
   "id": "53b34f68",
   "metadata": {},
   "source": [
    "Was ist die Ausgabe, der folgenden Zelle?"
   ]
  },
  {
   "cell_type": "code",
   "execution_count": null,
   "id": "424e1b49",
   "metadata": {},
   "outputs": [],
   "source": [
    "print(gemischte_liste)"
   ]
  },
  {
   "cell_type": "markdown",
   "id": "2017c4d3",
   "metadata": {},
   "source": [
    "### Was kann man mit Listen so machen?\n",
    "\n",
    "Es ist möglich auf die einzelnen Einträge der Liste zuzugreifen mit dem Befehl `list[k]`, wobei für `list` der Name der Liste eingesetzt werden muss und `k` die Position in der Liste ist.\n",
    "\n",
    "#### Wichtig:\n",
    "In der Informatik und in fast jeder Programmiersprache fängt man beim Zählen nicht mit 1 sondern mit 0 an. Möchte man also auf das ERSTE Element in der Liste zugreifen, schreibt man `list[0]` statt `list[1]`. Möchte man auf das zweite Element zugreifen, schreibt man `list[1]`, und so weiter. \n",
    "\n",
    "\n",
    "\n",
    "Nun erst mal ein paar Beispiele:"
   ]
  },
  {
   "cell_type": "code",
   "execution_count": null,
   "id": "26967157",
   "metadata": {},
   "outputs": [],
   "source": [
    "einkaufsliste = [\"Müsli\", \"Schokolade\", \"Erdbeeren\"]\n",
    "\n",
    "print(einkaufsliste[1])"
   ]
  },
  {
   "cell_type": "markdown",
   "id": "c159d668",
   "metadata": {},
   "source": [
    "Was passiert, wenn wir folgendes versuchen?"
   ]
  },
  {
   "cell_type": "code",
   "execution_count": null,
   "id": "a113846a",
   "metadata": {},
   "outputs": [],
   "source": [
    "print(einkaufsliste[3])"
   ]
  },
  {
   "cell_type": "code",
   "execution_count": null,
   "id": "93c5270b",
   "metadata": {},
   "outputs": [],
   "source": [
    "zahlen = [0,1,2,3,4,5,6,7,8,9]\n",
    "\n",
    "print(zahlen[8])"
   ]
  },
  {
   "cell_type": "markdown",
   "id": "300f762e",
   "metadata": {},
   "source": [
    "Wir können mit diesem Konzept auch Einträge in einer Liste ändern:"
   ]
  },
  {
   "cell_type": "code",
   "execution_count": null,
   "id": "5911a7e0",
   "metadata": {},
   "outputs": [],
   "source": [
    "einkaufsliste = [\"Müsli\", \"Schokolade\", \"Erdbeeren\"]\n",
    "\n",
    "einkaufsliste[0] = \"Haferflocken\"\n",
    "\n",
    "print(einkaufsliste)"
   ]
  },
  {
   "cell_type": "markdown",
   "id": "f5acb223",
   "metadata": {},
   "source": [
    "Außerdem können wir Listen vergrößern. Der Befehl `list.append(x)`, hängt `x` an die Liste `list` dran.\n",
    "\n",
    "Beispiel:"
   ]
  },
  {
   "cell_type": "code",
   "execution_count": null,
   "id": "7e005443",
   "metadata": {},
   "outputs": [],
   "source": [
    "einkaufsliste = [\"Müsli\", \"Schokolade\", \"Erdbeeren\"]\n",
    "\n",
    "einkaufsliste.append(\"Äpfel\")\n",
    "\n",
    "print(einkaufsliste)"
   ]
  },
  {
   "cell_type": "markdown",
   "id": "a1c76e31",
   "metadata": {},
   "source": [
    "Mit dem Befehl `list.reverse()` können wir die Reihenfolge der Einträge umdrehen.\n",
    "\n",
    "Beispiel:"
   ]
  },
  {
   "cell_type": "code",
   "execution_count": null,
   "id": "99223b2b",
   "metadata": {},
   "outputs": [],
   "source": [
    "einkaufsliste.reverse()\n",
    "\n",
    "print(einkaufsliste)"
   ]
  },
  {
   "cell_type": "markdown",
   "id": "15763953",
   "metadata": {},
   "source": [
    "Der Befehl `len(list)` gibt uns an, wie viele Elemente in einer Liste sind.\n",
    "\n",
    "Beispiel:"
   ]
  },
  {
   "cell_type": "code",
   "execution_count": null,
   "id": "537fbc9e",
   "metadata": {},
   "outputs": [],
   "source": [
    "einkaufsliste = [\"Müsli\", \"Schokolade\", \"Erdbeeren\"]\n",
    "print(len(einkaufsliste))\n",
    "\n",
    "einkaufsliste.append(\"Äpfel\")\n",
    "print(len(einkaufsliste))"
   ]
  },
  {
   "cell_type": "markdown",
   "id": "58e97c5a",
   "metadata": {},
   "source": [
    "Wir beschränken uns jetzt erst mal auf die gerade kennengelernten Befehle, aber es gibt noch ganz viele weitere tolle Sachen, die man mit Listen machen kann!"
   ]
  },
  {
   "cell_type": "markdown",
   "id": "6ed84301",
   "metadata": {},
   "source": [
    "#### Übung"
   ]
  },
  {
   "cell_type": "markdown",
   "id": "76d113da",
   "metadata": {},
   "source": [
    "Erstelle eine Liste `Lieblingstiere` mit deinen vier Lieblingstieren. Gib das zweite Tier in deiner Liste mithilfe von `print()` aus. Ersetze dann das vierte Tier in deiner Liste mit dem Wort \"Pinguin\". "
   ]
  },
  {
   "cell_type": "code",
   "execution_count": null,
   "id": "21fb7819",
   "metadata": {},
   "outputs": [],
   "source": []
  },
  {
   "cell_type": "markdown",
   "id": "0e360f79",
   "metadata": {},
   "source": [
    "## Dictionaries"
   ]
  },
  {
   "cell_type": "markdown",
   "id": "7476eeae",
   "metadata": {},
   "source": [
    "Manchmal wollen wir unsere Daten nicht einfach in Listen hintereinander abspeichern, sondern noch mehr mit ihnen machen. `Dictionaries` (auf Deutsch `Wörterbücher`) werden ebenfalls dafür genutzt, mehrere Daten an einem Ort zu speichern, aber die Einträge bestehen nun im Gegensatz zu Listen nicht nur aus einer Zahl oder einem Wort, sondern aus Paaren: `Schlüssel:Wert`."
   ]
  },
  {
   "cell_type": "markdown",
   "id": "f741c21b",
   "metadata": {},
   "source": [
    "Wollen wir beispielsweise ein Telefonbuch erstellen, bringt es uns nichts, nur die Nummern in einer Liste abzuspeichern, sondern wir müssen natürlich auch wissen, wem die Nummer gehört. Man hat also ein Paar `Name:Telefonnummer` und kann so eindeutig zuordnen, wem welche Telefonnummer gehört."
   ]
  },
  {
   "cell_type": "markdown",
   "id": "2778f5cd",
   "metadata": {},
   "source": [
    "Dictionaries erstellt man, in dem man die Paare, durch ein Komma getrennt, zwischen zwei geschweifte Klammern `{}` schreibt. \n",
    "\n",
    "Beispiele:"
   ]
  },
  {
   "cell_type": "code",
   "execution_count": null,
   "id": "f7bdd040",
   "metadata": {},
   "outputs": [],
   "source": [
    "telefonbuch = {\"Inken\": 1777837, \"Martin\": 242348283, \"Vroni\": 93382034}\n",
    "\n",
    "steckbrief = {\"Name\":\"Inken\",\n",
    "              \"Alter\":24, \n",
    "              \"Verheiratet\":False}"
   ]
  },
  {
   "cell_type": "markdown",
   "id": "c5161906",
   "metadata": {},
   "source": [
    "#### Wichtig:\n",
    "\n",
    "Die Schlüssel müssen unterscheidbar sein! Man kann nicht zwei mal den gleichen Schlüssel für unterschiedliche Werte verwenden."
   ]
  },
  {
   "cell_type": "code",
   "execution_count": null,
   "id": "8a264563",
   "metadata": {},
   "outputs": [],
   "source": [
    "steckbrief = {\"Name\":\"Inken\",\n",
    "              \"Name\":\"Lara\", \n",
    "              \"Alter\":24, \n",
    "              \"Verheiratet\":False}\n",
    "\n",
    "print(steckbrief)"
   ]
  },
  {
   "cell_type": "markdown",
   "id": "a01a2067",
   "metadata": {},
   "source": [
    "Natürlich können wir auch Listen als Elemente verwenden:"
   ]
  },
  {
   "cell_type": "code",
   "execution_count": null,
   "id": "8300d83d",
   "metadata": {},
   "outputs": [],
   "source": [
    "freunde = {\"Inken\": [\"Martin\", \"Vroni\"], \"Martin\": [\"Inken\", \"Vroni\"], \"Vroni\": [\"Martin\", \"Inken\"]}"
   ]
  },
  {
   "cell_type": "markdown",
   "id": "82e1f35b",
   "metadata": {},
   "source": [
    "Zurück zu unserem Telefonbuch. Möchte ich jetzt die Nummer von Inken herausfinden, dann kann ich das folgendermaßen tun:"
   ]
  },
  {
   "cell_type": "code",
   "execution_count": null,
   "id": "9cb86032",
   "metadata": {},
   "outputs": [],
   "source": [
    "print(telefonbuch[\"Inken\"])"
   ]
  },
  {
   "cell_type": "markdown",
   "id": "abdd5758",
   "metadata": {},
   "source": [
    "Wir benutzen also wie bei Listen eckige Klammern, aber geben nicht die Postition, sondern den Schlüssel an. \n",
    "\n",
    "Weiteres Besipiel:"
   ]
  },
  {
   "cell_type": "code",
   "execution_count": null,
   "id": "75143caa",
   "metadata": {},
   "outputs": [],
   "source": [
    "print(\"Martins Freunde sind\",freunde[\"Martin\"])"
   ]
  },
  {
   "cell_type": "markdown",
   "id": "bc23a44a",
   "metadata": {},
   "source": [
    "## For-Schleifen"
   ]
  },
  {
   "cell_type": "markdown",
   "id": "08947abd",
   "metadata": {},
   "source": [
    "Im letzten Kurs habt ihr schon while-Schleifen kennengelernt. For-Schleifen funktionieren ganz ähnlich und werden ebenfalls verwendet, um den gleichen Code mehrmals auszuführen. Sie sind sehr praktisch, wenn man beispielsweise durch alle Elemente einer Liste gehen möchte.\n",
    "\n",
    "Beispiel:"
   ]
  },
  {
   "cell_type": "code",
   "execution_count": null,
   "id": "f4d62f5f",
   "metadata": {},
   "outputs": [],
   "source": [
    "einkaufsliste = [\"Müsli\", \"Schokolade\", \"Erdbeeren\"]\n",
    "\n",
    "for i in einkaufsliste:\n",
    "    print(i)"
   ]
  },
  {
   "cell_type": "markdown",
   "id": "48acab69",
   "metadata": {},
   "source": [
    "Im obigen Beispiel gehen wir durch die Liste `einkaufsliste`. Da die Liste die Länge drei hat, wird der Code in der Schleife drei mal ausgeführt. Das `i` nimmt immer den Wert des Listenelements des jeweiligen Durchgangs an. Im ersten Durchgang steht in `i` also \"Müsli\", im zweiten Durchgang \"Schokolade\", und so weiter. Man kann außer i auch jeden anderen Variablennamen nehmen."
   ]
  },
  {
   "cell_type": "markdown",
   "id": "1906dd1a",
   "metadata": {},
   "source": [
    "Wir können mit for-Schleifen auch durch dictionaries gehen. "
   ]
  },
  {
   "cell_type": "code",
   "execution_count": null,
   "id": "89cd949d",
   "metadata": {},
   "outputs": [],
   "source": [
    "telefonbuch = {\"Inken\": 1777837, \"Martin\": 242348283, \"Vroni\": 93382034}\n",
    "\n",
    "for s in telefonbuch:\n",
    "    print(s)\n",
    "    print(telefonbuch[s])"
   ]
  },
  {
   "cell_type": "markdown",
   "id": "1189457f",
   "metadata": {},
   "source": [
    "Wie man sehen kann, steht in s immer der Schlüssel des Paares. Um auf den Wert des Schlüssels zugreifen zu können, müssen wir `telefonbuch[s]` schreiben.\n",
    "\n",
    "Weiteres Beispiel:"
   ]
  },
  {
   "cell_type": "code",
   "execution_count": null,
   "id": "c4a467b3",
   "metadata": {},
   "outputs": [],
   "source": [
    "freunde = {\"Inken\": [\"Martin\", \"Vroni\"], \"Martin\": [\"Inken\", \"Vroni\"], \"Vroni\": [\"Martin\", \"Inken\"]}\n",
    "\n",
    "for schluessel in freunde:\n",
    "    print(schluessel, \"hat die Freunde\", freunde[schluessel])"
   ]
  },
  {
   "cell_type": "markdown",
   "id": "5fb644c2",
   "metadata": {},
   "source": [
    "#### Übung"
   ]
  },
  {
   "cell_type": "markdown",
   "id": "ad15ecd6",
   "metadata": {},
   "source": [
    "## Funktionen"
   ]
  },
  {
   "cell_type": "markdown",
   "id": "105c931a",
   "metadata": {},
   "source": [
    "Bisher haben wir unseren Code immer von oben nach unten geschrieben und in der Reihenfolge wurde dieser dann auch ausgeführt. Wenn wir einen Teil unseren Codes noch einmal verwenden wollten, mussten wir alles kopieren und unten anfügen. `Funktionen` sind eine Möglichkeit, wie man Code, der eine bestimmte Sache macht, die man mehrmals in seinem Programm braucht, wieder und wieder verwenden kann, ohne dass man ihn kopieren muss.\n"
   ]
  },
  {
   "cell_type": "markdown",
   "id": "79722d0a",
   "metadata": {},
   "source": [
    "Beispiel:\n",
    "\n",
    "Wir wollen ein Programm schreiben, das den Nutzer auffordert, verschiedene Daten über sich anzugeben und nach jeder Nutzerantwort, wollen wir uns mit \"Vielen Dank für die Eingabe\" bedanken. Ohne Funktionen würde das ganze so aussehen:"
   ]
  },
  {
   "cell_type": "code",
   "execution_count": null,
   "id": "66126033",
   "metadata": {},
   "outputs": [],
   "source": [
    "input(\"Bitte Namen angeben:\")\n",
    "\n",
    "print(\"Vielen Dank für die Eingabe\")\n",
    "\n",
    "input(\"Bitte Alter angeben:\")\n",
    "\n",
    "print(\"Vielen Dank für die Eingabe\")\n",
    "\n",
    "input(\"Bitte Geschlecht angeben:\")\n",
    "\n",
    "print(\"Vielen Dank für die Eingabe\")"
   ]
  },
  {
   "cell_type": "markdown",
   "id": "d439afe7",
   "metadata": {},
   "source": [
    "Da man den Befehl `print(\"Vielen Dank für die Eingabe\")` mehrmals verwendet, bietet es sich an, eine Funktion für diesen Teil des Codes zu schreiben. Das ganze sieht folgendermaßen aus:"
   ]
  },
  {
   "cell_type": "code",
   "execution_count": null,
   "id": "99bcf564",
   "metadata": {},
   "outputs": [],
   "source": [
    "def danke():\n",
    "    print(\"Vielen Dank für die Eingabe\")\n",
    "    \n",
    "input(\"Bitte Namen angeben:\")\n",
    "\n",
    "danke()\n",
    "\n",
    "input(\"Bitte Alter angeben:\")\n",
    "\n",
    "danke()\n",
    "\n",
    "input(\"Bitte Geschlecht angeben:\")\n",
    "\n",
    "danke()"
   ]
  },
  {
   "cell_type": "markdown",
   "id": "34121447",
   "metadata": {},
   "source": [
    "In dem Beispiel spart man sich natürlich nicht wahnsinnig viel Schreibarbeit, aber jetzt stellt euch vor, wir müssten die Funktion noch viel häufiger aufrufen, oder der Code innerhalb der Funktion ist noch länger, dann können Funktionen sehr viel Arbeit sparen.\n",
    "\n",
    "Wie in dem Beispiel schon zu sehen ist, erstellt man eine Funktion, indem man `def Funktionsname():` schreibt und den zu der Funktion gehörenden Code eingerückt darunter schreibt. Wie bei Variablen, kann man sich den Funktionsnamen frei aussuchen. Möchte man den Code in der Funktion dann später in seinem Programm verwenden, muss man einfach nur `Funktionsname()`schreiben und der Code in der Funktion wird an der Stelle ausgeführt."
   ]
  },
  {
   "cell_type": "markdown",
   "id": "deee23f9",
   "metadata": {},
   "source": [
    "Funktionen können sogar noch mehr als das! Stellt euch vor, wir wollen unser Programm jetzt so ändern, dass wir uns persönlich bei dem Nutzer des Programms bedanken. Da natürlich jeder Nutzer des Programms anders heißt, müssen wir irgendwie in der Lage sein, unserer Funktion den Namen des Nutzers mitzuteilen. Das ist in Python ganz einfach, da Funktionen in der Lage sind, `Parameter` entgegenzunehmen:"
   ]
  },
  {
   "cell_type": "code",
   "execution_count": null,
   "id": "ed859d01",
   "metadata": {},
   "outputs": [],
   "source": [
    "def danke(name):\n",
    "    print(\"Vielen Dank für die Eingabe\", name)\n",
    "    \n",
    "x = input(\"Bitte Namen angeben:\")\n",
    "\n",
    "danke(x)\n",
    "\n",
    "input(\"Bitte Alter angeben:\")\n",
    "\n",
    "danke(x)\n",
    "\n",
    "input(\"Bitte Geschlecht angeben:\")\n",
    "\n",
    "danke(x)"
   ]
  },
  {
   "cell_type": "markdown",
   "id": "86bd045f",
   "metadata": {},
   "source": [
    "Den Namen unseres Parameters können wir uns wieder frei wählen und wir schreiben ihn in die Klammern hinter den Funktionsnamen. Welchen Wert dieser Parameter hat, wird bei dem Aufruf von der Funktion festgelegt. In dem Beispiel speichern wir den Namen in der Variable x und übergeben diese dann an die Funktion."
   ]
  },
  {
   "cell_type": "markdown",
   "id": "1b54df6d",
   "metadata": {},
   "source": [
    "Weitere Beispiele für Funktionen:"
   ]
  },
  {
   "cell_type": "code",
   "execution_count": null,
   "id": "8ed822bd",
   "metadata": {},
   "outputs": [],
   "source": [
    "def quadrat(x):\n",
    "    print(x*x)\n",
    "    \n",
    "    \n",
    "    \n",
    "quadrat(2)\n",
    "quadrat(10)\n",
    "quadrat(535)"
   ]
  },
  {
   "cell_type": "code",
   "execution_count": null,
   "id": "c5b6fc09",
   "metadata": {},
   "outputs": [],
   "source": []
  }
 ],
 "metadata": {
  "kernelspec": {
   "display_name": "Python 3 (ipykernel)",
   "language": "python",
   "name": "python3"
  },
  "language_info": {
   "codemirror_mode": {
    "name": "ipython",
    "version": 3
   },
   "file_extension": ".py",
   "mimetype": "text/x-python",
   "name": "python",
   "nbconvert_exporter": "python",
   "pygments_lexer": "ipython3",
   "version": "3.9.5"
  }
 },
 "nbformat": 4,
 "nbformat_minor": 5
}
